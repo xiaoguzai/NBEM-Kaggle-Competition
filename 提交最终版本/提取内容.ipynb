{
 "cells": [
  {
   "cell_type": "code",
   "execution_count": 1,
   "id": "44b0012c",
   "metadata": {},
   "outputs": [],
   "source": [
    "import pandas as pd"
   ]
  },
  {
   "cell_type": "markdown",
   "id": "963c42b5",
   "metadata": {},
   "source": [
    "## 按照30%的比例增加数据"
   ]
  },
  {
   "cell_type": "code",
   "execution_count": 2,
   "id": "3146bd59",
   "metadata": {},
   "outputs": [
    {
     "data": {
      "text/html": [
       "<div>\n",
       "<style scoped>\n",
       "    .dataframe tbody tr th:only-of-type {\n",
       "        vertical-align: middle;\n",
       "    }\n",
       "\n",
       "    .dataframe tbody tr th {\n",
       "        vertical-align: top;\n",
       "    }\n",
       "\n",
       "    .dataframe thead th {\n",
       "        text-align: right;\n",
       "    }\n",
       "</style>\n",
       "<table border=\"1\" class=\"dataframe\">\n",
       "  <thead>\n",
       "    <tr style=\"text-align: right;\">\n",
       "      <th></th>\n",
       "      <th>id</th>\n",
       "      <th>case_num</th>\n",
       "      <th>pn_num</th>\n",
       "      <th>feature_num</th>\n",
       "      <th>annotation</th>\n",
       "      <th>location</th>\n",
       "      <th>feature_text</th>\n",
       "      <th>pn_history</th>\n",
       "    </tr>\n",
       "  </thead>\n",
       "  <tbody>\n",
       "    <tr>\n",
       "      <th>0</th>\n",
       "      <td>00016_000</td>\n",
       "      <td>0</td>\n",
       "      <td>16</td>\n",
       "      <td>0</td>\n",
       "      <td>['dad with recent heart attcak']</td>\n",
       "      <td>['696 724']</td>\n",
       "      <td>Family-history-of-MI-OR-Family-history-of-myoc...</td>\n",
       "      <td>HPI: 17yo M presents with palpitations. Patien...</td>\n",
       "    </tr>\n",
       "    <tr>\n",
       "      <th>1</th>\n",
       "      <td>00016_001</td>\n",
       "      <td>0</td>\n",
       "      <td>16</td>\n",
       "      <td>1</td>\n",
       "      <td>['mom with \"thyroid disease']</td>\n",
       "      <td>['668 693']</td>\n",
       "      <td>Family-history-of-thyroid-disorder</td>\n",
       "      <td>HPI: 17yo M presents with palpitations. Patien...</td>\n",
       "    </tr>\n",
       "    <tr>\n",
       "      <th>2</th>\n",
       "      <td>00016_002</td>\n",
       "      <td>0</td>\n",
       "      <td>16</td>\n",
       "      <td>2</td>\n",
       "      <td>['chest pressure']</td>\n",
       "      <td>['203 217']</td>\n",
       "      <td>Chest-pressure</td>\n",
       "      <td>HPI: 17yo M presents with palpitations. Patien...</td>\n",
       "    </tr>\n",
       "    <tr>\n",
       "      <th>3</th>\n",
       "      <td>00016_003</td>\n",
       "      <td>0</td>\n",
       "      <td>16</td>\n",
       "      <td>3</td>\n",
       "      <td>['intermittent episodes', 'episode']</td>\n",
       "      <td>['70 91', '176 183']</td>\n",
       "      <td>Intermittent-symptoms</td>\n",
       "      <td>HPI: 17yo M presents with palpitations. Patien...</td>\n",
       "    </tr>\n",
       "    <tr>\n",
       "      <th>4</th>\n",
       "      <td>00016_004</td>\n",
       "      <td>0</td>\n",
       "      <td>16</td>\n",
       "      <td>4</td>\n",
       "      <td>['felt as if he were going to pass out']</td>\n",
       "      <td>['222 258']</td>\n",
       "      <td>Lightheaded</td>\n",
       "      <td>HPI: 17yo M presents with palpitations. Patien...</td>\n",
       "    </tr>\n",
       "  </tbody>\n",
       "</table>\n",
       "</div>"
      ],
      "text/plain": [
       "          id  case_num  pn_num  feature_num  \\\n",
       "0  00016_000         0      16            0   \n",
       "1  00016_001         0      16            1   \n",
       "2  00016_002         0      16            2   \n",
       "3  00016_003         0      16            3   \n",
       "4  00016_004         0      16            4   \n",
       "\n",
       "                                 annotation              location  \\\n",
       "0          ['dad with recent heart attcak']           ['696 724']   \n",
       "1             ['mom with \"thyroid disease']           ['668 693']   \n",
       "2                        ['chest pressure']           ['203 217']   \n",
       "3      ['intermittent episodes', 'episode']  ['70 91', '176 183']   \n",
       "4  ['felt as if he were going to pass out']           ['222 258']   \n",
       "\n",
       "                                        feature_text  \\\n",
       "0  Family-history-of-MI-OR-Family-history-of-myoc...   \n",
       "1                 Family-history-of-thyroid-disorder   \n",
       "2                                     Chest-pressure   \n",
       "3                              Intermittent-symptoms   \n",
       "4                                        Lightheaded   \n",
       "\n",
       "                                          pn_history  \n",
       "0  HPI: 17yo M presents with palpitations. Patien...  \n",
       "1  HPI: 17yo M presents with palpitations. Patien...  \n",
       "2  HPI: 17yo M presents with palpitations. Patien...  \n",
       "3  HPI: 17yo M presents with palpitations. Patien...  \n",
       "4  HPI: 17yo M presents with palpitations. Patien...  "
      ]
     },
     "execution_count": 2,
     "metadata": {},
     "output_type": "execute_result"
    }
   ],
   "source": [
    "train = pd.read_csv('train.csv')\n",
    "features = pd.read_csv('features.csv')\n",
    "patient_notes = pd.read_csv('patient_notes.csv')\n",
    "train = train.merge(features, on=['feature_num','case_num'],how='left')\n",
    "train = train.merge(patient_notes, on=['pn_num','case_num'],how='left')\n",
    "train.head()"
   ]
  },
  {
   "cell_type": "code",
   "execution_count": 3,
   "id": "0d4dad51",
   "metadata": {},
   "outputs": [],
   "source": [
    "values = train.pn_num.values"
   ]
  },
  {
   "cell_type": "markdown",
   "id": "bd7467fd",
   "metadata": {},
   "source": [
    "## 增加0标签部分内容\n",
    "id:00016~02436\n",
    "長度:0～1301\n",
    "(1301-0)/12 = 108\n",
    "108/3 = 36\n",
    "间隔id:2436/36=68"
   ]
  },
  {
   "cell_type": "code",
   "execution_count": 4,
   "id": "860a4133",
   "metadata": {},
   "outputs": [],
   "source": [
    "#pseudo_labeling = pd.read_csv('Pseudo-Labelling.csv')\n",
    "pseudo_labeling = pd.DataFrame()\n",
    "#add 30 every time\n",
    "for index in range(36):\n",
    "    #总的次数\n",
    "    for index1 in range(13):\n",
    "        data1 = index*68\n",
    "        #每次增加的id\n",
    "        while data1 in values:\n",
    "            data1 = data1+1\n",
    "        data1 = str(data1)\n",
    "        r1 = data1.rjust(5,'0')\n",
    "        data2 = str(index1)\n",
    "        r2 = data2.rjust(3,'0')\n",
    "        s = {\"id\":r1+'_'+r2,\\\n",
    "             \"case_num\":str(0),\\\n",
    "             \"pn_num\":r1,\\\n",
    "             \"feature_num\":r2}\n",
    "        pseudo_labeling = pseudo_labeling.append(s,ignore_index=True)"
   ]
  },
  {
   "cell_type": "markdown",
   "id": "ea8c9cb2",
   "metadata": {},
   "source": [
    "## 增加1标签部分内容\n",
    "id:10004~10988\n",
    "长度:1302～2601\n",
    "总的次数(2601-1302)/36=36\n",
    "间隔id:(10988-10004)/36=944/36=26"
   ]
  },
  {
   "cell_type": "code",
   "execution_count": 5,
   "id": "d9982c15",
   "metadata": {},
   "outputs": [],
   "source": [
    "for index in range(36):\n",
    "    for index1 in range(13):\n",
    "        data1 = 10030+index*26\n",
    "        while data1 in values:\n",
    "            data1 = data1+1\n",
    "        data1 = str(data1)\n",
    "        r1 = data1.rjust(5,'0')\n",
    "        data2 = str(index1)\n",
    "        r2 = data2.rjust(3,'0')\n",
    "        s = {\"id\":r1+'_'+r2,\\\n",
    "             \"case_num\":str(1),\\\n",
    "             \"pn_num\":r1,\\\n",
    "             \"feature_num\":r2}\n",
    "        pseudo_labeling = pseudo_labeling.append(s,ignore_index=True)"
   ]
  },
  {
   "cell_type": "markdown",
   "id": "4763edee",
   "metadata": {},
   "source": [
    "## 增加2标签部分内容(20001～22100)\n",
    "id:20001~22123\n",
    "長度2602～4301\n",
    "总的次数:(4301-2602)/36=47\n",
    "间隔id:(22123-20001)/47=45"
   ]
  },
  {
   "cell_type": "code",
   "execution_count": 6,
   "id": "ea8ae48c",
   "metadata": {},
   "outputs": [],
   "source": [
    "for index in range(47):\n",
    "    for index1 in range(13):\n",
    "        data1 = 20010+index*45\n",
    "        while data1 in values:\n",
    "            data1 = data1+1\n",
    "        data1 = str(data1)\n",
    "        r1 = data1.rjust(5,'0')\n",
    "        data2 = str(index1)\n",
    "        r2 = data2.rjust(3,'0')\n",
    "        s = {\"id\":r1+'_'+r2,\\\n",
    "             \"case_num\":str(2),\\\n",
    "             \"pn_num\":r1,\\\n",
    "             \"feature_num\":r2}\n",
    "        pseudo_labeling = pseudo_labeling.append(s,ignore_index=True)"
   ]
  },
  {
   "cell_type": "markdown",
   "id": "3865ef69",
   "metadata": {},
   "source": [
    "## 增加标签3部分内容\n",
    "id:30037~39921\n",
    "長度4302~5901\n",
    "总的次数(5901-4302)/36=44\n",
    "间隔id(39921-30037)/44 = 224"
   ]
  },
  {
   "cell_type": "code",
   "execution_count": 7,
   "id": "96180ae7",
   "metadata": {},
   "outputs": [],
   "source": [
    "for index in range(30):\n",
    "    for index1 in range(13):\n",
    "        data1 = 30300+index*224\n",
    "        while data1 in values:\n",
    "            data1 = data1+1\n",
    "        data1 = str(data1)\n",
    "        r1 = data1.rjust(5,'0')\n",
    "        data2 = str(index1)\n",
    "        r2 = data2.rjust(3,'0')\n",
    "        s = {\"id\":r1+'_'+r2,\\\n",
    "             \"case_num\":str(3),\\\n",
    "             \"pn_num\":r1,\\\n",
    "             \"feature_num\":r2}\n",
    "        pseudo_labeling = pseudo_labeling.append(s,ignore_index=True)"
   ]
  },
  {
   "cell_type": "markdown",
   "id": "4a7b26f3",
   "metadata": {},
   "source": [
    "## 增加标签4部分内容\n",
    "id:40045~45947\n",
    "長度5902~6901\n",
    "总的次数:(6901-5902)/36=28\n",
    "间隔id:(45947-40045)/28=211"
   ]
  },
  {
   "cell_type": "code",
   "execution_count": 8,
   "id": "a64ca9a9",
   "metadata": {},
   "outputs": [],
   "source": [
    "for index in range(28):\n",
    "    for index1 in range(13):\n",
    "        data1 = 40080+index*211\n",
    "        while data1 in values:\n",
    "            data1 = data1+1\n",
    "        data1 = str(data1)\n",
    "        r1 = data1.rjust(5,'0')\n",
    "        data2 = str(index1)\n",
    "        r2 = data2.rjust(3,'0')\n",
    "        s = {\"id\":r1+'_'+r2,\\\n",
    "             \"case_num\":str(4),\\\n",
    "             \"pn_num\":r1,\\\n",
    "             \"feature_num\":r2}\n",
    "        pseudo_labeling = pseudo_labeling.append(s,ignore_index=True)"
   ]
  },
  {
   "cell_type": "markdown",
   "id": "ec5b2307",
   "metadata": {},
   "source": [
    "## 增加标签5部分内容\n",
    "id:50072~57026\n",
    "長度6902～8701\n",
    "总的次数:(8702-6902)/36=50\n",
    "间隔id:(57026-50072)/50 = 140"
   ]
  },
  {
   "cell_type": "code",
   "execution_count": 9,
   "id": "fc97a1ef",
   "metadata": {},
   "outputs": [],
   "source": [
    "for index in range(50):\n",
    "    for index1 in range(13):\n",
    "        data1 = 50140+index*140\n",
    "        while data1 in values:\n",
    "            data1 = data1+1\n",
    "        data1 = str(data1)\n",
    "        r1 = data1.rjust(5,'0')\n",
    "        data2 = str(index1)\n",
    "        r2 = data2.rjust(3,'0')\n",
    "        s = {\"id\":r1+'_'+r2,\\\n",
    "             \"case_num\":str(5),\\\n",
    "             \"pn_num\":r1,\\\n",
    "             \"feature_num\":r2}\n",
    "        pseudo_labeling = pseudo_labeling.append(s,ignore_index=True)"
   ]
  },
  {
   "cell_type": "markdown",
   "id": "abb10876",
   "metadata": {},
   "source": [
    "## 增加标签6部分内容\n",
    "id:60004~61768\n",
    "长度:8702~9901\n",
    "总的次数:(9901-8702)/36=33\n",
    "间隔id:(61768-60004)/33=53"
   ]
  },
  {
   "cell_type": "code",
   "execution_count": 10,
   "id": "f5e8bf1b",
   "metadata": {},
   "outputs": [],
   "source": [
    "for index in range(33):\n",
    "    for index1 in range(13):\n",
    "        data1 = 60053+index*53\n",
    "        while data1 in values:\n",
    "            data1 = data1+1\n",
    "        data1 = str(data1)\n",
    "        r1 = data1.rjust(5,'0')\n",
    "        data2 = str(index1)\n",
    "        r2 = data2.rjust(3,'0')\n",
    "        s = {\"id\":r1+'_'+r2,\\\n",
    "             \"case_num\":str(6),\\\n",
    "             \"pn_num\":r1,\\\n",
    "             \"feature_num\":r2}\n",
    "        pseudo_labeling = pseudo_labeling.append(s,ignore_index=True)"
   ]
  },
  {
   "cell_type": "markdown",
   "id": "11365eb2",
   "metadata": {},
   "source": [
    "## 增加标签7部分内容\n",
    "id:70087~74087\n",
    "长度9902~10801\n",
    "总的次数:(10801-9902)/36=25\n",
    "间隔id:(74087-70087)/25=160"
   ]
  },
  {
   "cell_type": "code",
   "execution_count": 11,
   "id": "81571da4",
   "metadata": {},
   "outputs": [],
   "source": [
    "for index in range(25):\n",
    "    for index1 in range(13):\n",
    "        data1 = 70160+index*160\n",
    "        while data1 in values:\n",
    "            data1 = data1+1\n",
    "        data1 = str(data1)\n",
    "        r1 = data1.rjust(5,'0')\n",
    "        data2 = str(index1)\n",
    "        r2 = data2.rjust(3,'0')\n",
    "        s = {\"id\":r1+'_'+r2,\\\n",
    "             \"case_num\":str(7),\\\n",
    "             \"pn_num\":r1,\\\n",
    "             \"feature_num\":r2}\n",
    "        pseudo_labeling = pseudo_labeling.append(s,ignore_index=True)"
   ]
  },
  {
   "cell_type": "markdown",
   "id": "ed7a3990",
   "metadata": {},
   "source": [
    "## 增加标签8部分内容\n",
    "id:80039~84366\n",
    "长度:10802~12601\n",
    "总的次数:(12601-10802)/36=50\n",
    "间隔id:(84366-80039)/50=87"
   ]
  },
  {
   "cell_type": "code",
   "execution_count": 12,
   "id": "cc42e694",
   "metadata": {},
   "outputs": [],
   "source": [
    "for index in range(50):\n",
    "    for index1 in range(13):\n",
    "        data1 = 80087+index*87\n",
    "        while data1 in values:\n",
    "            data1 = data1+1\n",
    "        data1 = str(data1)\n",
    "        r1 = data1.rjust(5,'0')\n",
    "        data2 = str(index1)\n",
    "        r2 = data2.rjust(3,'0')\n",
    "        s = {\"id\":r1+'_'+r2,\\\n",
    "             \"case_num\":str(8),\\\n",
    "             \"pn_num\":r1,\\\n",
    "             \"feature_num\":r2}\n",
    "        pseudo_labeling = pseudo_labeling.append(s,ignore_index=True)"
   ]
  },
  {
   "cell_type": "markdown",
   "id": "997b1da4",
   "metadata": {},
   "source": [
    "## 增加标签9部分内容\n",
    "id:90127~95333\n",
    "长度:12602~14301\n",
    "总的次数(14301-12602)/36=47\n",
    "间隔id(95333-90127)/47=111"
   ]
  },
  {
   "cell_type": "code",
   "execution_count": 13,
   "id": "4c038808",
   "metadata": {},
   "outputs": [],
   "source": [
    "for index in range(47):\n",
    "    for index1 in range(13):\n",
    "        data1 = 90111+index*111\n",
    "        while data1 in values:\n",
    "            data1 = data1+1\n",
    "        data1 = str(data1)\n",
    "        r1 = data1.rjust(5,'0')\n",
    "        data2 = str(index1)\n",
    "        r2 = data2.rjust(3,'0')\n",
    "        s = {\"id\":r1+'_'+r2,\\\n",
    "             \"case_num\":str(9),\\\n",
    "             \"pn_num\":r1,\\\n",
    "             \"feature_num\":r2}\n",
    "        pseudo_labeling = pseudo_labeling.append(s,ignore_index=True)"
   ]
  },
  {
   "cell_type": "code",
   "execution_count": 14,
   "id": "f736badc",
   "metadata": {},
   "outputs": [
    {
     "data": {
      "text/html": [
       "<div>\n",
       "<style scoped>\n",
       "    .dataframe tbody tr th:only-of-type {\n",
       "        vertical-align: middle;\n",
       "    }\n",
       "\n",
       "    .dataframe tbody tr th {\n",
       "        vertical-align: top;\n",
       "    }\n",
       "\n",
       "    .dataframe thead th {\n",
       "        text-align: right;\n",
       "    }\n",
       "</style>\n",
       "<table border=\"1\" class=\"dataframe\">\n",
       "  <thead>\n",
       "    <tr style=\"text-align: right;\">\n",
       "      <th></th>\n",
       "      <th>id</th>\n",
       "      <th>case_num</th>\n",
       "      <th>pn_num</th>\n",
       "      <th>feature_num</th>\n",
       "    </tr>\n",
       "  </thead>\n",
       "  <tbody>\n",
       "    <tr>\n",
       "      <th>0</th>\n",
       "      <td>00000_000</td>\n",
       "      <td>0</td>\n",
       "      <td>00000</td>\n",
       "      <td>000</td>\n",
       "    </tr>\n",
       "    <tr>\n",
       "      <th>1</th>\n",
       "      <td>00000_001</td>\n",
       "      <td>0</td>\n",
       "      <td>00000</td>\n",
       "      <td>001</td>\n",
       "    </tr>\n",
       "    <tr>\n",
       "      <th>2</th>\n",
       "      <td>00000_002</td>\n",
       "      <td>0</td>\n",
       "      <td>00000</td>\n",
       "      <td>002</td>\n",
       "    </tr>\n",
       "    <tr>\n",
       "      <th>3</th>\n",
       "      <td>00000_003</td>\n",
       "      <td>0</td>\n",
       "      <td>00000</td>\n",
       "      <td>003</td>\n",
       "    </tr>\n",
       "    <tr>\n",
       "      <th>4</th>\n",
       "      <td>00000_004</td>\n",
       "      <td>0</td>\n",
       "      <td>00000</td>\n",
       "      <td>004</td>\n",
       "    </tr>\n",
       "  </tbody>\n",
       "</table>\n",
       "</div>"
      ],
      "text/plain": [
       "          id case_num pn_num feature_num\n",
       "0  00000_000        0  00000         000\n",
       "1  00000_001        0  00000         001\n",
       "2  00000_002        0  00000         002\n",
       "3  00000_003        0  00000         003\n",
       "4  00000_004        0  00000         004"
      ]
     },
     "execution_count": 14,
     "metadata": {},
     "output_type": "execute_result"
    }
   ],
   "source": [
    "pseudo_labeling.head()"
   ]
  },
  {
   "cell_type": "code",
   "execution_count": 15,
   "id": "da70bce2",
   "metadata": {},
   "outputs": [],
   "source": [
    "pseudo_labeling.to_csv('pseudo_labeling.csv',index=False)"
   ]
  }
 ],
 "metadata": {
  "kernelspec": {
   "display_name": "Python 3 (ipykernel)",
   "language": "python",
   "name": "python3"
  },
  "language_info": {
   "codemirror_mode": {
    "name": "ipython",
    "version": 3
   },
   "file_extension": ".py",
   "mimetype": "text/x-python",
   "name": "python",
   "nbconvert_exporter": "python",
   "pygments_lexer": "ipython3",
   "version": "3.9.5"
  }
 },
 "nbformat": 4,
 "nbformat_minor": 5
}
